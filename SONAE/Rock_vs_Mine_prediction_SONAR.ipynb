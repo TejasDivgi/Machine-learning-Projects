{
  "nbformat": 4,
  "nbformat_minor": 0,
  "metadata": {
    "colab": {
      "provenance": [],
      "authorship_tag": "ABX9TyPZjf1Ampo6iYAjGECWWhGj",
      "include_colab_link": true
    },
    "kernelspec": {
      "name": "python3",
      "display_name": "Python 3"
    },
    "language_info": {
      "name": "python"
    }
  },
  "cells": [
    {
      "cell_type": "markdown",
      "metadata": {
        "id": "view-in-github",
        "colab_type": "text"
      },
      "source": [
        "<a href=\"https://colab.research.google.com/github/TejasDivgi/Machine-learning-Projects/blob/main/SONAE/Rock_vs_Mine_prediction_SONAR.ipynb\" target=\"_parent\"><img src=\"https://colab.research.google.com/assets/colab-badge.svg\" alt=\"Open In Colab\"/></a>"
      ]
    },
    {
      "cell_type": "markdown",
      "source": [
        "to detect mine in the ocean"
      ],
      "metadata": {
        "id": "Uwx0HuSxU4NS"
      }
    },
    {
      "cell_type": "markdown",
      "source": [
        "Importing the liberaries"
      ],
      "metadata": {
        "id": "fZhA8Y9eWtXo"
      }
    },
    {
      "cell_type": "code",
      "execution_count": 1,
      "metadata": {
        "id": "gQOLbIw1Tg9E"
      },
      "outputs": [],
      "source": [
        "import pandas as pd\n",
        "import numpy as np\n",
        "from sklearn.model_selection import train_test_split\n",
        "from sklearn.linear_model import LogisticRegression\n",
        "from sklearn.metrics import accuracy_score"
      ]
    },
    {
      "cell_type": "markdown",
      "source": [
        "Data collectioin and data processing"
      ],
      "metadata": {
        "id": "ZJIo8bs-Xicg"
      }
    },
    {
      "cell_type": "code",
      "source": [],
      "metadata": {
        "id": "Z2LZKn8bXfVX"
      },
      "execution_count": null,
      "outputs": []
    }
  ]
}